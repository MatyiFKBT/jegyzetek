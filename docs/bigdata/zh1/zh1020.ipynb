{
 "cells": [
  {
   "cell_type": "markdown",
   "metadata": {},
   "source": [
    "# Spark init"
   ]
  },
  {
   "cell_type": "code",
   "execution_count": 1,
   "metadata": {},
   "outputs": [],
   "source": [
    "from pyspark import SparkConf, SparkContext\n",
    "\n",
    "conf = SparkConf()\n",
    "sc = SparkContext(conf=conf)"
   ]
  },
  {
   "cell_type": "markdown",
   "metadata": {},
   "source": [
    "# 1. feladat"
   ]
  },
  {
   "cell_type": "code",
   "execution_count": 71,
   "metadata": {},
   "outputs": [
    {
     "data": {
      "text/plain": [
       "[('1938', 5)]"
      ]
     },
     "execution_count": 71,
     "metadata": {},
     "output_type": "execute_result"
    }
   ],
   "source": [
    "def getYear(line):\n",
    "    return str(int(line.split(\",\")[1])-int(line.split(\",\")[2]))\n",
    "sc.textFile(\"oscar_age_male.csv\")\\\n",
    ".filter(lambda line: line!=\"\")\\\n",
    ".map(getYear)\\\n",
    ".map(lambda y: (y,1))\\\n",
    ".reduceByKey(lambda a,b: a+b)\\\n",
    ".sortBy(lambda x: x[1], False)\\\n",
    ".take(1)"
   ]
  },
  {
   "cell_type": "markdown",
   "metadata": {},
   "source": [
    "# 2. feladat - sentiment"
   ]
  },
  {
   "cell_type": "code",
   "execution_count": 15,
   "metadata": {},
   "outputs": [
    {
     "name": "stdout",
     "output_type": "stream",
     "text": [
      "('positive', 2) ('negative', 4) ('neutral', 17)\n"
     ]
    }
   ],
   "source": [
    "pos_words = ['great', 'masterpiece', 'awesome', 'enjoyable']\n",
    "neg_words = ['garbage', 'worst', 'bad', 'boring']\n",
    "pos_count = sc.accumulator(0)\n",
    "neg_count = sc.accumulator(0)\n",
    "neu_count = sc.accumulator(0)\n",
    "\n",
    "def measLine(line):\n",
    "    pos = 0\n",
    "    neg = 0\n",
    "    for word in line.split(\" \"):\n",
    "        if word in pos_words:\n",
    "            pos +=1\n",
    "        elif word in neg_words:\n",
    "            neg +=1\n",
    "    if pos>neg:\n",
    "        return 1\n",
    "    elif neg>pos:\n",
    "        return -1\n",
    "    else:\n",
    "        return 0\n",
    "\n",
    "def countSentiment(i):\n",
    "    if i==1: \n",
    "        pos_count.add(1)\n",
    "    elif i==-1: \n",
    "        neg_count.add(1)\n",
    "    elif i==0: \n",
    "        neu_count.add(1)\n",
    "\n",
    "lines = sc.textFile(\"sentiment_input.txt\")\\\n",
    ".map(measLine)\\\n",
    ".foreach(countSentiment)\n",
    "\n",
    "print(('positive',pos_count.value),('negative',neg_count.value),('neutral',neu_count.value))"
   ]
  }
 ],
 "metadata": {
  "kernelspec": {
   "display_name": "Python 3",
   "language": "python",
   "name": "python3"
  },
  "language_info": {
   "codemirror_mode": {
    "name": "ipython",
    "version": 3
   },
   "file_extension": ".py",
   "mimetype": "text/x-python",
   "name": "python",
   "nbconvert_exporter": "python",
   "pygments_lexer": "ipython3",
   "version": "3.8.0"
  }
 },
 "nbformat": 4,
 "nbformat_minor": 4
}
